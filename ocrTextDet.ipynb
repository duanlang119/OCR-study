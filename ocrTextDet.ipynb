{
 "cells": [
  {
   "cell_type": "code",
   "execution_count": 2,
   "metadata": {
    "collapsed": true
   },
   "outputs": [
    {
     "name": "stdout",
     "output_type": "stream",
     "text": [
      "[2022/01/03 18:09:15] root WARNING: version PP-OCRv2 not support cls models, auto switch to version PP-OCR\n",
      "download https://paddleocr.bj.bcebos.com/PP-OCRv2/chinese/ch_PP-OCRv2_det_infer.tar to C:\\Users\\Administrator/.paddleocr/2.3.0.2\\ocr\\det\\ch\\ch_PP-OCRv2_det_infer\\ch_PP-OCRv2_det_infer.tar\n",
      "download https://paddleocr.bj.bcebos.com/PP-OCRv2/chinese/ch_PP-OCRv2_rec_infer.tar to C:\\Users\\Administrator/.paddleocr/2.3.0.2\\ocr\\rec\\ch\\ch_PP-OCRv2_rec_infer\\ch_PP-OCRv2_rec_infer.tar\n",
      "download https://paddleocr.bj.bcebos.com/dygraph_v2.0/ch/ch_ppocr_mobile_v2.0_cls_infer.tar to C:\\Users\\Administrator/.paddleocr/2.3.0.2\\ocr\\cls\\ch_ppocr_mobile_v2.0_cls_infer\\ch_ppocr_mobile_v2.0_cls_infer.tar\n",
      "Namespace(benchmark=False, cls_batch_num=6, cls_image_shape='3, 48, 192', cls_model_dir='C:\\\\Users\\\\Administrator/.paddleocr/2.3.0.2\\\\ocr\\\\cls\\\\ch_ppocr_mobile_v2.0_cls_infer', cls_thresh=0.9, cpu_threads=10, det=True, det_algorithm='DB', det_db_box_thresh=0.6, det_db_score_mode='fast', det_db_thresh=0.3, det_db_unclip_ratio=1.5, det_east_cover_thresh=0.1, det_east_nms_thresh=0.2, det_east_score_thresh=0.8, det_limit_side_len=960, det_limit_type='max', det_model_dir='C:\\\\Users\\\\Administrator/.paddleocr/2.3.0.2\\\\ocr\\\\det\\\\ch\\\\ch_PP-OCRv2_det_infer', det_pse_box_thresh=0.85, det_pse_box_type='box', det_pse_min_area=16, det_pse_scale=1, det_pse_thresh=0, det_sast_nms_thresh=0.2, det_sast_polygon=False, det_sast_score_thresh=0.5, drop_score=0.5, e2e_algorithm='PGNet', e2e_char_dict_path='./ppocr/utils/ic15_dict.txt', e2e_limit_side_len=768, e2e_limit_type='max', e2e_model_dir=None, e2e_pgnet_mode='fast', e2e_pgnet_polygon=True, e2e_pgnet_score_thresh=0.5, e2e_pgnet_valid_set='totaltext', enable_mkldnn=False, gpu_mem=500, help='==SUPPRESS==', image_dir='./imgs/12.jpg', ir_optim=True, label_list=['0', '180'], lang='ch', layout_path_model='lp://PubLayNet/ppyolov2_r50vd_dcn_365e_publaynet/config', max_batch_size=10, max_text_length=25, min_subgraph_size=15, ocr_version='PP-OCRv2', output='./output/table', precision='fp32', process_id=0, rec=False, rec_algorithm='CRNN', rec_batch_num=6, rec_char_dict_path='d:\\\\anaconda3\\\\envs\\\\pt38\\\\lib\\\\site-packages\\\\paddleocr\\\\ppocr\\\\utils\\\\ppocr_keys_v1.txt', rec_image_shape='3, 32, 320', rec_model_dir='C:\\\\Users\\\\Administrator/.paddleocr/2.3.0.2\\\\ocr\\\\rec\\\\ch\\\\ch_PP-OCRv2_rec_infer', save_log_path='./log_output/', show_log=True, structure_version='STRUCTURE', table_char_dict_path=None, table_char_type='en', table_max_len=488, table_model_dir=None, total_process_num=1, type='ocr', use_angle_cls=False, use_dilation=False, use_gpu=False, use_mp=False, use_onnx=False, use_pdserving=False, use_space_char=True, use_tensorrt=False, vis_font_path='./doc/fonts/simfang.ttf', warmup=True)\n",
      "[2022/01/03 18:09:24] root INFO: **********./imgs/12.jpg**********\n",
      "[2022/01/03 18:09:26] root INFO: [[79.0, 555.0], [398.0, 542.0], [399.0, 571.0], [80.0, 584.0]]\n",
      "[2022/01/03 18:09:26] root INFO: [[21.0, 507.0], [512.0, 491.0], [513.0, 532.0], [22.0, 548.0]]\n",
      "[2022/01/03 18:09:26] root INFO: [[174.0, 458.0], [397.0, 449.0], [398.0, 480.0], [175.0, 489.0]]\n",
      "[2022/01/03 18:09:26] root INFO: [[42.0, 414.0], [482.0, 392.0], [484.0, 428.0], [44.0, 450.0]]\n"
     ]
    },
    {
     "name": "stderr",
     "output_type": "stream",
     "text": [
      "\n",
      "  0%|          | 0.00/3.19M [00:00<?, ?iB/s]\n",
      "  2%|▏         | 49.2k/3.19M [00:00<00:09, 336kiB/s]\n",
      "  4%|▎         | 118k/3.19M [00:00<00:06, 495kiB/s] \n",
      "  6%|▌         | 196k/3.19M [00:00<00:04, 609kiB/s]\n",
      " 12%|█▏        | 380k/3.19M [00:00<00:02, 1.04MiB/s]\n",
      " 21%|██        | 658k/3.19M [00:00<00:01, 1.63MiB/s]\n",
      " 33%|███▎      | 1.07M/3.19M [00:00<00:00, 2.42MiB/s]\n",
      " 48%|████▊     | 1.54M/3.19M [00:00<00:00, 3.13MiB/s]\n",
      " 61%|██████    | 1.95M/3.19M [00:00<00:00, 3.35MiB/s]\n",
      " 73%|███████▎  | 2.33M/3.19M [00:00<00:00, 3.46MiB/s]\n",
      " 86%|████████▌ | 2.74M/3.19M [00:01<00:00, 3.66MiB/s]\n",
      "100%|██████████| 3.19M/3.19M [00:01<00:00, 2.74MiB/s]\n",
      "\n",
      "  0%|          | 0.00/8.88M [00:00<?, ?iB/s]\n",
      "  0%|          | 5.12k/8.88M [00:00<02:54, 50.9kiB/s]\n",
      "  1%|          | 52.2k/8.88M [00:00<00:36, 244kiB/s] \n",
      "  2%|▏         | 134k/8.88M [00:00<00:19, 442kiB/s] \n",
      "  2%|▏         | 216k/8.88M [00:00<00:15, 554kiB/s]\n",
      "  3%|▎         | 298k/8.88M [00:00<00:14, 592kiB/s]\n",
      "  4%|▍         | 364k/8.88M [00:00<00:14, 606kiB/s]\n",
      "  5%|▍         | 429k/8.88M [00:00<00:13, 614kiB/s]\n",
      "  6%|▌         | 544k/8.88M [00:00<00:10, 771kiB/s]\n",
      "  9%|▊         | 757k/8.88M [00:01<00:06, 1.17MiB/s]\n",
      " 12%|█▏        | 1.08M/8.88M [00:01<00:04, 1.77MiB/s]\n",
      " 16%|█▌        | 1.43M/8.88M [00:01<00:03, 2.27MiB/s]\n",
      " 21%|██        | 1.87M/8.88M [00:01<00:02, 2.90MiB/s]\n",
      " 26%|██▌       | 2.28M/8.88M [00:01<00:02, 3.14MiB/s]\n",
      " 29%|██▉       | 2.59M/8.88M [00:01<00:02, 3.13MiB/s]\n",
      " 33%|███▎      | 2.95M/8.88M [00:01<00:01, 3.20MiB/s]\n",
      " 38%|███▊      | 3.35M/8.88M [00:01<00:01, 3.40MiB/s]\n",
      " 44%|████▎     | 3.88M/8.88M [00:01<00:01, 3.97MiB/s]\n",
      " 49%|████▉     | 4.38M/8.88M [00:01<00:01, 4.24MiB/s]\n",
      " 55%|█████▌    | 4.92M/8.88M [00:02<00:00, 4.55MiB/s]\n",
      " 61%|██████    | 5.42M/8.88M [00:02<00:00, 4.69MiB/s]\n",
      " 67%|██████▋   | 5.92M/8.88M [00:02<00:00, 4.74MiB/s]\n",
      " 73%|███████▎  | 6.44M/8.88M [00:02<00:00, 4.88MiB/s]\n",
      " 78%|███████▊  | 6.93M/8.88M [00:02<00:00, 4.68MiB/s]\n",
      " 84%|████████▎ | 7.43M/8.88M [00:02<00:00, 4.73MiB/s]\n",
      " 89%|████████▉ | 7.90M/8.88M [00:02<00:00, 4.60MiB/s]\n",
      " 94%|█████████▍| 8.36M/8.88M [00:02<00:00, 4.60MiB/s]\n",
      " 99%|█████████▉| 8.82M/8.88M [00:02<00:00, 4.59MiB/s]\n",
      "100%|██████████| 8.88M/8.88M [00:02<00:00, 3.09MiB/s]\n",
      "\n",
      "  0%|          | 0.00/1.45M [00:00<?, ?iB/s]\n",
      "  1%|▏         | 19.5k/1.45M [00:00<00:08, 162kiB/s]\n",
      "  6%|▌         | 85.0k/1.45M [00:00<00:03, 373kiB/s]\n",
      " 10%|█         | 151k/1.45M [00:00<00:02, 446kiB/s] \n",
      " 15%|█▍        | 216k/1.45M [00:00<00:02, 475kiB/s]\n",
      " 20%|██        | 298k/1.45M [00:00<00:02, 536kiB/s]\n",
      " 26%|██▌       | 380k/1.45M [00:00<00:01, 569kiB/s]\n",
      " 31%|███       | 445k/1.45M [00:00<00:01, 559kiB/s]\n",
      " 37%|███▋      | 544k/1.45M [00:01<00:01, 629kiB/s]\n",
      " 45%|████▌     | 658k/1.45M [00:01<00:01, 754kiB/s]\n",
      " 55%|█████▌    | 806k/1.45M [00:01<00:00, 903kiB/s]\n",
      " 77%|███████▋  | 1.12M/1.45M [00:01<00:00, 1.50MiB/s]\n",
      "100%|██████████| 1.45M/1.45M [00:01<00:00, 1.05MiB/s]\n"
     ]
    }
   ],
   "source": [
    "! paddleocr --image_dir ./imgs/12.jpg --rec false"
   ]
  }
 ],
 "metadata": {
  "kernelspec": {
   "display_name": "Python 3",
   "language": "python",
   "name": "python3"
  },
  "language_info": {
   "codemirror_mode": {
    "name": "ipython",
    "version": 2
   },
   "file_extension": ".py",
   "mimetype": "text/x-python",
   "name": "python",
   "nbconvert_exporter": "python",
   "pygments_lexer": "ipython2",
   "version": "2.7.6"
  }
 },
 "nbformat": 4,
 "nbformat_minor": 0
}